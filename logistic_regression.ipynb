{
 "cells": [
  {
   "cell_type": "code",
   "execution_count": 2,
   "metadata": {},
   "outputs": [],
   "source": [
    "%reload_ext autoreload\n",
    "%autoreload 2"
   ]
  },
  {
   "cell_type": "code",
   "execution_count": 3,
   "metadata": {},
   "outputs": [
    {
     "name": "stderr",
     "output_type": "stream",
     "text": [
      "c:\\Users\\tobia\\OneDrive\\Documents\\Code\\AppliedMachineLearning\\dataloader.py:62: FutureWarning: Setting an item of incompatible dtype is deprecated and will raise in a future error of pandas. Value '[-0.36045039  0.97104829  0.30529895 ...  1.63679763 -0.89304986\n",
      " -0.36045039]' has dtype incompatible with int64, please explicitly cast to a compatible dtype first.\n",
      "  data.iloc[:, 1:] = self.scaler.fit_transform(data.iloc[:, 1:])\n",
      "c:\\Users\\tobia\\OneDrive\\Documents\\Code\\AppliedMachineLearning\\dataloader.py:62: FutureWarning: Setting an item of incompatible dtype is deprecated and will raise in a future error of pandas. Value '[-0.51101585 -0.39351628 -0.17542437 ...  0.04201507 -0.22126679\n",
      "  0.11440979]' has dtype incompatible with int64, please explicitly cast to a compatible dtype first.\n",
      "  data.iloc[:, 1:] = self.scaler.fit_transform(data.iloc[:, 1:])\n",
      "c:\\Users\\tobia\\OneDrive\\Documents\\Code\\AppliedMachineLearning\\dataloader.py:62: FutureWarning: Setting an item of incompatible dtype is deprecated and will raise in a future error of pandas. Value '[-0.33838254 -0.70352354 -0.33838254 ...  0.02675847  0.02675847\n",
      "  1.48732249]' has dtype incompatible with int64, please explicitly cast to a compatible dtype first.\n",
      "  data.iloc[:, 1:] = self.scaler.fit_transform(data.iloc[:, 1:])\n",
      "c:\\Users\\tobia\\OneDrive\\Documents\\Code\\AppliedMachineLearning\\dataloader.py:62: FutureWarning: Setting an item of incompatible dtype is deprecated and will raise in a future error of pandas. Value '[-0.31318085 -0.31318085 -0.31318085 ... -0.31318085 -0.31318085\n",
      " -0.31318085]' has dtype incompatible with int64, please explicitly cast to a compatible dtype first.\n",
      "  data.iloc[:, 1:] = self.scaler.fit_transform(data.iloc[:, 1:])\n",
      "c:\\Users\\tobia\\OneDrive\\Documents\\Code\\AppliedMachineLearning\\dataloader.py:62: FutureWarning: Setting an item of incompatible dtype is deprecated and will raise in a future error of pandas. Value '[-0.26907829 -0.26907829 -0.26907829 ... -0.26907829  3.37182545\n",
      "  3.37182545]' has dtype incompatible with int64, please explicitly cast to a compatible dtype first.\n",
      "  data.iloc[:, 1:] = self.scaler.fit_transform(data.iloc[:, 1:])\n",
      "c:\\Users\\tobia\\OneDrive\\Documents\\Code\\AppliedMachineLearning\\dataloader.py:62: FutureWarning: Setting an item of incompatible dtype is deprecated and will raise in a future error of pandas. Value '[-0.57782885 -0.57782885 -0.57782885 ... -0.57782885 -0.57782885\n",
      " -0.57782885]' has dtype incompatible with bool, please explicitly cast to a compatible dtype first.\n",
      "  data.iloc[:, 1:] = self.scaler.fit_transform(data.iloc[:, 1:])\n",
      "c:\\Users\\tobia\\OneDrive\\Documents\\Code\\AppliedMachineLearning\\dataloader.py:62: FutureWarning: Setting an item of incompatible dtype is deprecated and will raise in a future error of pandas. Value '[-0.36297413  2.75501727 -0.36297413 ... -0.36297413 -0.36297413\n",
      " -0.36297413]' has dtype incompatible with bool, please explicitly cast to a compatible dtype first.\n",
      "  data.iloc[:, 1:] = self.scaler.fit_transform(data.iloc[:, 1:])\n",
      "c:\\Users\\tobia\\OneDrive\\Documents\\Code\\AppliedMachineLearning\\dataloader.py:62: FutureWarning: Setting an item of incompatible dtype is deprecated and will raise in a future error of pandas. Value '[-0.82655407 -0.82655407  1.20984221 ... -0.82655407  1.20984221\n",
      "  1.20984221]' has dtype incompatible with bool, please explicitly cast to a compatible dtype first.\n",
      "  data.iloc[:, 1:] = self.scaler.fit_transform(data.iloc[:, 1:])\n",
      "c:\\Users\\tobia\\OneDrive\\Documents\\Code\\AppliedMachineLearning\\dataloader.py:62: FutureWarning: Setting an item of incompatible dtype is deprecated and will raise in a future error of pandas. Value '[-0.20521229 -0.20521229 -0.20521229 ... -0.20521229 -0.20521229\n",
      " -0.20521229]' has dtype incompatible with bool, please explicitly cast to a compatible dtype first.\n",
      "  data.iloc[:, 1:] = self.scaler.fit_transform(data.iloc[:, 1:])\n",
      "c:\\Users\\tobia\\OneDrive\\Documents\\Code\\AppliedMachineLearning\\dataloader.py:62: FutureWarning: Setting an item of incompatible dtype is deprecated and will raise in a future error of pandas. Value '[-0.26944662 -0.26944662 -0.26944662 ... -0.26944662 -0.26944662\n",
      " -0.26944662]' has dtype incompatible with bool, please explicitly cast to a compatible dtype first.\n",
      "  data.iloc[:, 1:] = self.scaler.fit_transform(data.iloc[:, 1:])\n",
      "c:\\Users\\tobia\\OneDrive\\Documents\\Code\\AppliedMachineLearning\\dataloader.py:62: FutureWarning: Setting an item of incompatible dtype is deprecated and will raise in a future error of pandas. Value '[ 4.8778924  -0.20500657 -0.20500657 ...  4.8778924  -0.20500657\n",
      " -0.20500657]' has dtype incompatible with bool, please explicitly cast to a compatible dtype first.\n",
      "  data.iloc[:, 1:] = self.scaler.fit_transform(data.iloc[:, 1:])\n",
      "c:\\Users\\tobia\\OneDrive\\Documents\\Code\\AppliedMachineLearning\\dataloader.py:62: FutureWarning: Setting an item of incompatible dtype is deprecated and will raise in a future error of pandas. Value '[-0.29278649 -0.29278649 -0.29278649 ... -0.29278649 -0.29278649\n",
      " -0.29278649]' has dtype incompatible with bool, please explicitly cast to a compatible dtype first.\n",
      "  data.iloc[:, 1:] = self.scaler.fit_transform(data.iloc[:, 1:])\n"
     ]
    }
   ],
   "source": [
    "import dataloader\n",
    "import pandas as pd\n",
    "from torch.utils.data import DataLoader\n",
    "loan = dataloader.LoanNeural()\n",
    "data = loan.get_data()\n",
    "\n",
    "train,test = dataloader.split_data_2(data)\n",
    "\n",
    "# We have low amount of class 1 samples, so we will upsample them in the training data\n",
    "class_1 = train[train['Class'] == 1]\n",
    "class_0 = train[train['Class'] == 0]\n",
    "class_1_upsampled = class_1.sample(n=len(class_0), replace\n",
    "=True, random_state=42)\n",
    "balanced_train : pd.DataFrame = pd.concat([class_0, class_1_upsampled])\n",
    "\n",
    "X_train, y_train = dataloader.split_variables_and_target(balanced_train)\n",
    "X_test, y_test = dataloader.split_variables_and_target(test)\n",
    "\n",
    "# Scale the data\n",
    "X_train = loan.scale_data(X_train)\n"
   ]
  },
  {
   "cell_type": "code",
   "execution_count": 4,
   "metadata": {},
   "outputs": [
    {
     "name": "stdout",
     "output_type": "stream",
     "text": [
      "Logistic Regression MSE: 0.39822546972860123\n",
      "Logistic Regression Accuracy: 0.6017745302713987\n"
     ]
    },
    {
     "name": "stderr",
     "output_type": "stream",
     "text": [
      "c:\\Users\\tobia\\OneDrive\\Documents\\Code\\AppliedMachineLearning\\dataloader.py:62: FutureWarning: Setting an item of incompatible dtype is deprecated and will raise in a future error of pandas. Value '[-1.4327851   0.58992066 -0.48885575 ... -0.6237028  -0.3540087\n",
      "  1.12930886]' has dtype incompatible with int64, please explicitly cast to a compatible dtype first.\n",
      "  data.iloc[:, 1:] = self.scaler.fit_transform(data.iloc[:, 1:])\n",
      "c:\\Users\\tobia\\OneDrive\\Documents\\Code\\AppliedMachineLearning\\dataloader.py:62: FutureWarning: Setting an item of incompatible dtype is deprecated and will raise in a future error of pandas. Value '[-0.23770563 -0.05930313 -0.10242651 ... -0.35383488 -0.33815803\n",
      " -0.31686164]' has dtype incompatible with int64, please explicitly cast to a compatible dtype first.\n",
      "  data.iloc[:, 1:] = self.scaler.fit_transform(data.iloc[:, 1:])\n",
      "c:\\Users\\tobia\\OneDrive\\Documents\\Code\\AppliedMachineLearning\\dataloader.py:62: FutureWarning: Setting an item of incompatible dtype is deprecated and will raise in a future error of pandas. Value '[ 0.72629691  0.72629691 -0.7303516  ... -0.2448021  -0.7303516\n",
      " -0.7303516 ]' has dtype incompatible with int64, please explicitly cast to a compatible dtype first.\n",
      "  data.iloc[:, 1:] = self.scaler.fit_transform(data.iloc[:, 1:])\n",
      "c:\\Users\\tobia\\OneDrive\\Documents\\Code\\AppliedMachineLearning\\dataloader.py:62: FutureWarning: Setting an item of incompatible dtype is deprecated and will raise in a future error of pandas. Value '[-0.30502061 -0.30502061 -0.30502061 ... -0.30502061 -0.30502061\n",
      " -0.30502061]' has dtype incompatible with int64, please explicitly cast to a compatible dtype first.\n",
      "  data.iloc[:, 1:] = self.scaler.fit_transform(data.iloc[:, 1:])\n",
      "c:\\Users\\tobia\\OneDrive\\Documents\\Code\\AppliedMachineLearning\\dataloader.py:62: FutureWarning: Setting an item of incompatible dtype is deprecated and will raise in a future error of pandas. Value '[-0.22887308 -0.22887308 -0.22887308 ... -0.22887308 -0.22887308\n",
      " -0.22887308]' has dtype incompatible with int64, please explicitly cast to a compatible dtype first.\n",
      "  data.iloc[:, 1:] = self.scaler.fit_transform(data.iloc[:, 1:])\n",
      "c:\\Users\\tobia\\OneDrive\\Documents\\Code\\AppliedMachineLearning\\dataloader.py:62: FutureWarning: Setting an item of incompatible dtype is deprecated and will raise in a future error of pandas. Value '[-0.52824116 -0.52824116 -0.52824116 ...  1.89307476 -0.52824116\n",
      " -0.52824116]' has dtype incompatible with bool, please explicitly cast to a compatible dtype first.\n",
      "  data.iloc[:, 1:] = self.scaler.fit_transform(data.iloc[:, 1:])\n",
      "c:\\Users\\tobia\\OneDrive\\Documents\\Code\\AppliedMachineLearning\\dataloader.py:62: FutureWarning: Setting an item of incompatible dtype is deprecated and will raise in a future error of pandas. Value '[-0.39535627 -0.39535627  2.52936423 ... -0.39535627 -0.39535627\n",
      " -0.39535627]' has dtype incompatible with bool, please explicitly cast to a compatible dtype first.\n",
      "  data.iloc[:, 1:] = self.scaler.fit_transform(data.iloc[:, 1:])\n",
      "c:\\Users\\tobia\\OneDrive\\Documents\\Code\\AppliedMachineLearning\\dataloader.py:62: FutureWarning: Setting an item of incompatible dtype is deprecated and will raise in a future error of pandas. Value '[ 1.15734106  1.15734106 -0.86404953 ... -0.86404953  1.15734106\n",
      " -0.86404953]' has dtype incompatible with bool, please explicitly cast to a compatible dtype first.\n",
      "  data.iloc[:, 1:] = self.scaler.fit_transform(data.iloc[:, 1:])\n",
      "c:\\Users\\tobia\\OneDrive\\Documents\\Code\\AppliedMachineLearning\\dataloader.py:62: FutureWarning: Setting an item of incompatible dtype is deprecated and will raise in a future error of pandas. Value '[-0.20323471 -0.20323471 -0.20323471 ... -0.20323471 -0.20323471\n",
      " -0.20323471]' has dtype incompatible with bool, please explicitly cast to a compatible dtype first.\n",
      "  data.iloc[:, 1:] = self.scaler.fit_transform(data.iloc[:, 1:])\n",
      "c:\\Users\\tobia\\OneDrive\\Documents\\Code\\AppliedMachineLearning\\dataloader.py:62: FutureWarning: Setting an item of incompatible dtype is deprecated and will raise in a future error of pandas. Value '[-0.27311789 -0.27311789 -0.27311789 ... -0.27311789 -0.27311789\n",
      " -0.27311789]' has dtype incompatible with bool, please explicitly cast to a compatible dtype first.\n",
      "  data.iloc[:, 1:] = self.scaler.fit_transform(data.iloc[:, 1:])\n",
      "c:\\Users\\tobia\\OneDrive\\Documents\\Code\\AppliedMachineLearning\\dataloader.py:62: FutureWarning: Setting an item of incompatible dtype is deprecated and will raise in a future error of pandas. Value '[-0.20323471 -0.20323471 -0.20323471 ... -0.20323471 -0.20323471\n",
      " -0.20323471]' has dtype incompatible with bool, please explicitly cast to a compatible dtype first.\n",
      "  data.iloc[:, 1:] = self.scaler.fit_transform(data.iloc[:, 1:])\n",
      "c:\\Users\\tobia\\OneDrive\\Documents\\Code\\AppliedMachineLearning\\dataloader.py:62: FutureWarning: Setting an item of incompatible dtype is deprecated and will raise in a future error of pandas. Value '[-0.2753182  -0.2753182  -0.2753182  ... -0.2753182  -0.2753182\n",
      "  3.63216087]' has dtype incompatible with bool, please explicitly cast to a compatible dtype first.\n",
      "  data.iloc[:, 1:] = self.scaler.fit_transform(data.iloc[:, 1:])\n"
     ]
    }
   ],
   "source": [
    "from sklearn.linear_model import LogisticRegression\n",
    "\n",
    "from sklearn.metrics import mean_squared_error\n",
    "from sklearn.metrics import accuracy_score\n",
    "\n",
    "# Train a logistic regression classifier\n",
    "logreg = LogisticRegression(max_iter=1000, tol=1e-3, verbose=True)\n",
    "logreg.fit(X_train, y_train)\n",
    "\n",
    "# Test on the X_test data\n",
    "logreg_predictions = logreg.predict(loan.scale_data(X_test))\n",
    "\n",
    "# Calculate the mean squared error\n",
    "logreg_mse = mean_squared_error(y_test, logreg_predictions)\n",
    "print(\"Logistic Regression MSE:\", logreg_mse)\n",
    "\n",
    "# Calculate accuracy\n",
    "logreg_accuracy = accuracy_score(y_test, logreg_predictions.round())\n",
    "print(\"Logistic Regression Accuracy:\", logreg_accuracy)\n"
   ]
  }
 ],
 "metadata": {
  "kernelspec": {
   "display_name": "Python 3",
   "language": "python",
   "name": "python3"
  },
  "language_info": {
   "codemirror_mode": {
    "name": "ipython",
    "version": 3
   },
   "file_extension": ".py",
   "mimetype": "text/x-python",
   "name": "python",
   "nbconvert_exporter": "python",
   "pygments_lexer": "ipython3",
   "version": "3.11.5"
  }
 },
 "nbformat": 4,
 "nbformat_minor": 2
}
