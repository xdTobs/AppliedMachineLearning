{
 "cells": [
  {
   "cell_type": "code",
   "execution_count": 3,
   "metadata": {},
   "outputs": [],
   "source": [
    "%reload_ext autoreload\n",
    "%autoreload 2"
   ]
  },
  {
   "cell_type": "code",
   "execution_count": 2,
   "metadata": {},
   "outputs": [
    {
     "ename": "ModuleNotFoundError",
     "evalue": "No module named 'dataloader'",
     "output_type": "error",
     "traceback": [
      "\u001b[1;31m---------------------------------------------------------------------------\u001b[0m",
      "\u001b[1;31mModuleNotFoundError\u001b[0m                       Traceback (most recent call last)",
      "Cell \u001b[1;32mIn[2], line 1\u001b[0m\n\u001b[1;32m----> 1\u001b[0m \u001b[38;5;28;01mimport\u001b[39;00m \u001b[38;5;21;01mdataloader\u001b[39;00m\n\u001b[0;32m      2\u001b[0m \u001b[38;5;28;01mfrom\u001b[39;00m \u001b[38;5;21;01mtorch\u001b[39;00m\u001b[38;5;21;01m.\u001b[39;00m\u001b[38;5;21;01mutils\u001b[39;00m\u001b[38;5;21;01m.\u001b[39;00m\u001b[38;5;21;01mdata\u001b[39;00m \u001b[38;5;28;01mimport\u001b[39;00m DataLoader\n\u001b[0;32m      3\u001b[0m loan \u001b[38;5;241m=\u001b[39m dataloader\u001b[38;5;241m.\u001b[39mLoanNeural()\n",
      "\u001b[1;31mModuleNotFoundError\u001b[0m: No module named 'dataloader'"
     ]
    }
   ],
   "source": [
    "import dataloader\n",
    "from torch.utils.data import DataLoader\n",
    "loan = dataloader.LoanNeural()\n",
    "data = loan.get_data()\n",
    "\n",
    "X_train, X_test, y_train, y_test = dataloader.split_data(data)\n",
    "\n",
    "# Scale the training data\n",
    "X_train = loan.scale_data(X_train)\n"
   ]
  },
  {
   "cell_type": "code",
   "execution_count": 7,
   "metadata": {},
   "outputs": [
    {
     "name": "stdout",
     "output_type": "stream",
     "text": [
      "Logistic Regression MSE: 0.13903743315508021\n",
      "Logistic Regression Accuracy: 0.8609625668449198\n"
     ]
    }
   ],
   "source": [
    "from sklearn.linear_model import LogisticRegression\n",
    "\n",
    "from sklearn.metrics import mean_squared_error\n",
    "from sklearn.metrics import accuracy_score\n",
    "\n",
    "# Train a logistic regression classifier\n",
    "logreg = LogisticRegression(max_iter=1000, tol=1e-3, verbose=True)\n",
    "logreg.fit(X_train, y_train)\n",
    "\n",
    "# Test on the X_test data\n",
    "logreg_predictions = logreg.predict(loan.scale_data(X_test))\n",
    "\n",
    "# Calculate the mean squared error\n",
    "logreg_mse = mean_squared_error(y_test, logreg_predictions)\n",
    "print(\"Logistic Regression MSE:\", logreg_mse)\n",
    "\n",
    "# Calculate accuracy\n",
    "logreg_accuracy = accuracy_score(y_test, logreg_predictions.round())\n",
    "print(\"Logistic Regression Accuracy:\", logreg_accuracy)\n"
   ]
  }
 ],
 "metadata": {
  "kernelspec": {
   "display_name": "Python 3",
   "language": "python",
   "name": "python3"
  },
  "language_info": {
   "codemirror_mode": {
    "name": "ipython",
    "version": 3
   },
   "file_extension": ".py",
   "mimetype": "text/x-python",
   "name": "python",
   "nbconvert_exporter": "python",
   "pygments_lexer": "ipython3",
   "version": "3.11.7"
  }
 },
 "nbformat": 4,
 "nbformat_minor": 2
}
