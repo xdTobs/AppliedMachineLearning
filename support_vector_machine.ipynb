{
 "cells": [
  {
   "cell_type": "code",
   "execution_count": 7,
   "metadata": {},
   "outputs": [],
   "source": [
    "%reload_ext autoreload\n",
    "%autoreload 2"
   ]
  },
  {
   "cell_type": "code",
   "execution_count": 8,
   "metadata": {},
   "outputs": [
    {
     "name": "stderr",
     "output_type": "stream",
     "text": [
      "c:\\Users\\tobia\\Documents\\School\\4th Semester\\Applied Machine Leaning and Big Data\\ML-Credit-Card-Fraud\\dataloader.py:60: FutureWarning: Setting an item of incompatible dtype is deprecated and will raise in a future error of pandas. Value '[-0.49825979  0.8111333   0.15643676 ... -0.49825979 -0.62919909\n",
      " -0.89107771]' has dtype incompatible with int64, please explicitly cast to a compatible dtype first.\n",
      "  data.iloc[:, 1:] = self.scaler.fit_transform(data.iloc[:, 1:])\n",
      "c:\\Users\\tobia\\Documents\\School\\4th Semester\\Applied Machine Leaning and Big Data\\ML-Credit-Card-Fraud\\dataloader.py:60: FutureWarning: Setting an item of incompatible dtype is deprecated and will raise in a future error of pandas. Value '[-0.52019879 -0.38880202 -0.14491539 ...  0.04688203  0.0381582\n",
      "  0.0060545 ]' has dtype incompatible with int64, please explicitly cast to a compatible dtype first.\n",
      "  data.iloc[:, 1:] = self.scaler.fit_transform(data.iloc[:, 1:])\n",
      "c:\\Users\\tobia\\Documents\\School\\4th Semester\\Applied Machine Leaning and Big Data\\ML-Credit-Card-Fraud\\dataloader.py:60: FutureWarning: Setting an item of incompatible dtype is deprecated and will raise in a future error of pandas. Value '[-0.26675113 -0.71447231 -0.26675113 ... -0.71447231 -0.26675113\n",
      " -0.26675113]' has dtype incompatible with int64, please explicitly cast to a compatible dtype first.\n",
      "  data.iloc[:, 1:] = self.scaler.fit_transform(data.iloc[:, 1:])\n",
      "c:\\Users\\tobia\\Documents\\School\\4th Semester\\Applied Machine Leaning and Big Data\\ML-Credit-Card-Fraud\\dataloader.py:60: FutureWarning: Setting an item of incompatible dtype is deprecated and will raise in a future error of pandas. Value '[-0.29883115 -0.29883115 -0.29883115 ... -0.29883115 -0.29883115\n",
      " -0.29883115]' has dtype incompatible with int64, please explicitly cast to a compatible dtype first.\n",
      "  data.iloc[:, 1:] = self.scaler.fit_transform(data.iloc[:, 1:])\n",
      "c:\\Users\\tobia\\Documents\\School\\4th Semester\\Applied Machine Leaning and Big Data\\ML-Credit-Card-Fraud\\dataloader.py:60: FutureWarning: Setting an item of incompatible dtype is deprecated and will raise in a future error of pandas. Value '[-0.23913127 -0.23913127 -0.23913127 ... -0.23913127 -0.23913127\n",
      " -0.23913127]' has dtype incompatible with int64, please explicitly cast to a compatible dtype first.\n",
      "  data.iloc[:, 1:] = self.scaler.fit_transform(data.iloc[:, 1:])\n",
      "c:\\Users\\tobia\\Documents\\School\\4th Semester\\Applied Machine Leaning and Big Data\\ML-Credit-Card-Fraud\\dataloader.py:60: FutureWarning: Setting an item of incompatible dtype is deprecated and will raise in a future error of pandas. Value '[-0.43687647 -0.43687647 -0.43687647 ... -0.43687647 -0.43687647\n",
      " -0.43687647]' has dtype incompatible with int64, please explicitly cast to a compatible dtype first.\n",
      "  data.iloc[:, 1:] = self.scaler.fit_transform(data.iloc[:, 1:])\n",
      "c:\\Users\\tobia\\Documents\\School\\4th Semester\\Applied Machine Leaning and Big Data\\ML-Credit-Card-Fraud\\dataloader.py:60: FutureWarning: Setting an item of incompatible dtype is deprecated and will raise in a future error of pandas. Value '[-0.57684792 -0.57684792 -0.57684792 ... -0.57684792 -0.57684792\n",
      " -0.57684792]' has dtype incompatible with bool, please explicitly cast to a compatible dtype first.\n",
      "  data.iloc[:, 1:] = self.scaler.fit_transform(data.iloc[:, 1:])\n",
      "c:\\Users\\tobia\\Documents\\School\\4th Semester\\Applied Machine Leaning and Big Data\\ML-Credit-Card-Fraud\\dataloader.py:60: FutureWarning: Setting an item of incompatible dtype is deprecated and will raise in a future error of pandas. Value '[-0.38810207  2.57664176 -0.38810207 ... -0.38810207 -0.38810207\n",
      " -0.38810207]' has dtype incompatible with bool, please explicitly cast to a compatible dtype first.\n",
      "  data.iloc[:, 1:] = self.scaler.fit_transform(data.iloc[:, 1:])\n",
      "c:\\Users\\tobia\\Documents\\School\\4th Semester\\Applied Machine Leaning and Big Data\\ML-Credit-Card-Fraud\\dataloader.py:60: FutureWarning: Setting an item of incompatible dtype is deprecated and will raise in a future error of pandas. Value '[-0.8328469  -0.8328469   1.20070088 ...  1.20070088  1.20070088\n",
      "  1.20070088]' has dtype incompatible with bool, please explicitly cast to a compatible dtype first.\n",
      "  data.iloc[:, 1:] = self.scaler.fit_transform(data.iloc[:, 1:])\n",
      "c:\\Users\\tobia\\Documents\\School\\4th Semester\\Applied Machine Leaning and Big Data\\ML-Credit-Card-Fraud\\dataloader.py:60: FutureWarning: Setting an item of incompatible dtype is deprecated and will raise in a future error of pandas. Value '[-0.19001441 -0.19001441 -0.19001441 ... -0.19001441 -0.19001441\n",
      " -0.19001441]' has dtype incompatible with bool, please explicitly cast to a compatible dtype first.\n",
      "  data.iloc[:, 1:] = self.scaler.fit_transform(data.iloc[:, 1:])\n",
      "c:\\Users\\tobia\\Documents\\School\\4th Semester\\Applied Machine Leaning and Big Data\\ML-Credit-Card-Fraud\\dataloader.py:60: FutureWarning: Setting an item of incompatible dtype is deprecated and will raise in a future error of pandas. Value '[-0.26308885 -0.26308885 -0.26308885 ... -0.26308885 -0.26308885\n",
      " -0.26308885]' has dtype incompatible with bool, please explicitly cast to a compatible dtype first.\n",
      "  data.iloc[:, 1:] = self.scaler.fit_transform(data.iloc[:, 1:])\n",
      "c:\\Users\\tobia\\Documents\\School\\4th Semester\\Applied Machine Leaning and Big Data\\ML-Credit-Card-Fraud\\dataloader.py:60: FutureWarning: Setting an item of incompatible dtype is deprecated and will raise in a future error of pandas. Value '[ 4.49715207 -0.22236295 -0.22236295 ... -0.22236295 -0.22236295\n",
      " -0.22236295]' has dtype incompatible with bool, please explicitly cast to a compatible dtype first.\n",
      "  data.iloc[:, 1:] = self.scaler.fit_transform(data.iloc[:, 1:])\n",
      "c:\\Users\\tobia\\Documents\\School\\4th Semester\\Applied Machine Leaning and Big Data\\ML-Credit-Card-Fraud\\dataloader.py:60: FutureWarning: Setting an item of incompatible dtype is deprecated and will raise in a future error of pandas. Value '[-0.25966951 -0.25966951 -0.25966951 ... -0.25966951 -0.25966951\n",
      " -0.25966951]' has dtype incompatible with bool, please explicitly cast to a compatible dtype first.\n",
      "  data.iloc[:, 1:] = self.scaler.fit_transform(data.iloc[:, 1:])\n"
     ]
    }
   ],
   "source": [
    "import pandas as pd\n",
    "import numpy as np\n",
    "import dataloader\n",
    "loan = dataloader.LoanNeural()\n",
    "data = loan.data\n",
    "X_train, X_test, y_train, y_test = dataloader.split_data(data)\n",
    "\n",
    "#Standardize the training data\n",
    "X_train = loan.scale_data(X_train)\n",
    "\n",
    "\n",
    "column_names = loan.column_names\n"
   ]
  },
  {
   "cell_type": "code",
   "execution_count": 10,
   "metadata": {},
   "outputs": [
    {
     "name": "stdout",
     "output_type": "stream",
     "text": [
      "[LibSVM]"
     ]
    },
    {
     "name": "stderr",
     "output_type": "stream",
     "text": [
      "C:\\Users\\tobia\\AppData\\Roaming\\Python\\Python311\\site-packages\\sklearn\\svm\\_base.py:297: ConvergenceWarning: Solver terminated early (max_iter=1000).  Consider pre-processing your data with StandardScaler or MinMaxScaler.\n",
      "  warnings.warn(\n"
     ]
    },
    {
     "name": "stdout",
     "output_type": "stream",
     "text": [
      "SVC MSE: 0.08402922755741127\n",
      "SVC Accuracy: 0.9159707724425887\n"
     ]
    }
   ],
   "source": [
    "from sklearn.svm import SVC\n",
    "\n",
    "from sklearn.metrics import mean_squared_error\n",
    "from sklearn.metrics import accuracy_score\n",
    "\n",
    "# Train a random forest classifier\n",
    "svc = SVC(max_iter=1000, tol=1e-3, verbose=True, kernel='rbf', C=1.0, gamma='scale')\n",
    "svc.fit(X_train, y_train)\n",
    "\n",
    "# Test on the X_test data\n",
    "svc_predictions = svc.predict(loan.scale_data(X_test))\n",
    "\n",
    "\n",
    "# Calculate the mean squared error\n",
    "\n",
    "svc_mse = mean_squared_error(y_test, svc_predictions)\n",
    "print(\"SVC MSE:\", svc_mse)\n",
    "\n",
    "\n",
    "# Calculate accuracy\n",
    "svc_accuracy = accuracy_score(y_test, svc_predictions.round())\n",
    "print(\"SVC Accuracy:\", svc_accuracy)"
   ]
  }
 ],
 "metadata": {
  "kernelspec": {
   "display_name": "Python 3",
   "language": "python",
   "name": "python3"
  },
  "language_info": {
   "codemirror_mode": {
    "name": "ipython",
    "version": 3
   },
   "file_extension": ".py",
   "mimetype": "text/x-python",
   "name": "python",
   "nbconvert_exporter": "python",
   "pygments_lexer": "ipython3",
   "version": "3.11.7"
  }
 },
 "nbformat": 4,
 "nbformat_minor": 2
}
