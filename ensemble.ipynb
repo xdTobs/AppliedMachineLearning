{
 "cells": [
  {
   "cell_type": "code",
   "execution_count": 21,
   "metadata": {},
   "outputs": [],
   "source": [
    "%reload_ext autoreload\n",
    "%autoreload 2"
   ]
  },
  {
   "cell_type": "code",
   "execution_count": 22,
   "metadata": {},
   "outputs": [],
   "source": [
    "import pandas as pd\n",
    "import numpy as np\n",
    "import dataloader\n",
    "from sklearn.model_selection import KFold\n",
    "from sklearn.metrics import confusion_matrix\n",
    "loan = dataloader.LoanForest()\n",
    "data = loan.data\n",
    "splits = 10\n",
    "column_names = loan.column_names\n",
    "kf = KFold(n_splits=splits, shuffle=True)\n",
    "X, y = dataloader.split_variables_and_target(data)\n",
    "\n",
    "\n"
   ]
  },
  {
   "cell_type": "code",
   "execution_count": null,
   "metadata": {},
   "outputs": [],
   "source": []
  },
  {
   "cell_type": "code",
   "execution_count": 36,
   "metadata": {},
   "outputs": [],
   "source": [
    "from sklearn.metrics import mean_squared_error\n",
    "from sklearn.metrics import accuracy_score\n",
    "\n",
    "def classify(classifier, X, y, kf):\n",
    "    mse_scores = []\n",
    "    accuracy_scores = []\n",
    "    precision_scores = []\n",
    "    recall_scores = []\n",
    "    true_positive_scores = []\n",
    "    true_negative_scores = []\n",
    "\n",
    "    for train_index, test_index in kf.split(X):\n",
    "        X_train, X_test = X.iloc[train_index], X.iloc[test_index]\n",
    "        y_train, y_test = y.iloc[train_index], y.iloc[test_index]\n",
    "        # Train a random forest classifier\n",
    "        classifier.fit(X_train, y_train)\n",
    "        # Test on the X_test data\n",
    "        classifier_predictions = classifier.predict(X_test)\n",
    "\n",
    "        # Calculate the mean squared error\n",
    "        mse = mean_squared_error(y_test, classifier_predictions)\n",
    "        mse_scores.append(mse)\n",
    "        #print(\"Random Forest Classifier MSE:\", mse)\n",
    "\n",
    "        # Calculate accuracy\n",
    "        accuracy = accuracy_score(y_test, classifier_predictions.round())\n",
    "        accuracy_scores.append(accuracy)\n",
    "        #print(\"Random Forest Classifier Accuracy:\", accuracy)\n",
    "\n",
    "        cm = confusion_matrix(y_test, classifier_predictions)\n",
    "\n",
    "        true_positive = cm[0, 0]\n",
    "        true_negative = cm[1, 1]\n",
    "        false_positive = cm[0, 1]\n",
    "        false_negative = cm[1, 0]\n",
    "        \n",
    "        \n",
    "        precision = true_positive / (true_positive + false_positive)\n",
    "        recall = true_positive / (true_positive + false_negative)\n",
    "        \n",
    "        precision_scores.append(precision)\n",
    "        recall_scores.append(recall)\n",
    "        true_positive_scores.append(true_positive / (true_positive + false_positive))\n",
    "        true_negative_scores.append(true_negative / (true_negative + false_negative))\n",
    "    mse_avg = np.mean(mse_scores)\n",
    "    accuracy_avg = np.mean(accuracy_scores)\n",
    "    precision_avg = np.mean(precision_scores)\n",
    "    recall_avg = np.mean(recall_scores)\n",
    "    true_positive_avg = np.mean(true_positive_scores)\n",
    "    true_negative_avg = np.mean(true_negative_scores)\n",
    "    return mse_avg, accuracy_avg, precision_avg, recall_avg, true_positive_avg, true_negative_avg\n"
   ]
  },
  {
   "cell_type": "code",
   "execution_count": 34,
   "metadata": {},
   "outputs": [
    {
     "ename": "NameError",
     "evalue": "name 'classify' is not defined",
     "output_type": "error",
     "traceback": [
      "\u001b[1;31m---------------------------------------------------------------------------\u001b[0m",
      "\u001b[1;31mNameError\u001b[0m                                 Traceback (most recent call last)",
      "Cell \u001b[1;32mIn[34], line 5\u001b[0m\n\u001b[0;32m      1\u001b[0m \u001b[38;5;28;01mfrom\u001b[39;00m \u001b[38;5;21;01msklearn\u001b[39;00m\u001b[38;5;21;01m.\u001b[39;00m\u001b[38;5;21;01mensemble\u001b[39;00m \u001b[38;5;28;01mimport\u001b[39;00m RandomForestClassifier\n\u001b[0;32m      4\u001b[0m model \u001b[38;5;241m=\u001b[39m RandomForestClassifier(n_estimators\u001b[38;5;241m=\u001b[39m\u001b[38;5;241m100\u001b[39m, min_samples_split\u001b[38;5;241m=\u001b[39m\u001b[38;5;241m5\u001b[39m)\n\u001b[1;32m----> 5\u001b[0m mse_avg, accuracy_avg, precision_avg, recall_avg, true_positive_avg, true_negative_avg \u001b[38;5;241m=\u001b[39m \u001b[43mclassify\u001b[49m(model, X, y, kf)\n\u001b[0;32m      6\u001b[0m \u001b[38;5;28mprint\u001b[39m(\u001b[38;5;124m\"\u001b[39m\u001b[38;5;124mRandom Forest Classifier MSE:\u001b[39m\u001b[38;5;124m\"\u001b[39m, mse_avg)\n\u001b[0;32m      7\u001b[0m \u001b[38;5;28mprint\u001b[39m(\u001b[38;5;124m\"\u001b[39m\u001b[38;5;124mRandom Forest Classifier Accuracy:\u001b[39m\u001b[38;5;124m\"\u001b[39m, accuracy_avg)\n",
      "\u001b[1;31mNameError\u001b[0m: name 'classify' is not defined"
     ]
    }
   ],
   "source": [
    "from sklearn.ensemble import RandomForestClassifier\n",
    "\n",
    "\n",
    "model = RandomForestClassifier(n_estimators=100, min_samples_split=5)\n",
    "mse_avg, accuracy_avg, precision_avg, recall_avg, true_positive_avg, true_negative_avg = classify(model, X, y, kf)\n",
    "print(\"Random Forest Classifier MSE:\", mse_avg)\n",
    "print(\"Random Forest Classifier Accuracy:\", accuracy_avg)\n",
    "print(\"Random Forest Classifier Precision:\", precision_avg)\n",
    "print(\"Random Forest Classifier Recall:\", recall_avg)\n",
    "print(\"Random Forest Classifier True Positive Rate:\", true_positive_avg)\n",
    "print(\"Random Forest Classifier True Negative Rate:\", true_negative_avg)\n",
    "print(\"Random Forest Classifier False Positive Rate:\", 1 - true_negative_avg)\n",
    "print(\"Random Forest Classifier False Negative Rate:\", 1 - true_positive_avg)"
   ]
  },
  {
   "cell_type": "code",
   "execution_count": null,
   "metadata": {},
   "outputs": [],
   "source": []
  },
  {
   "cell_type": "code",
   "execution_count": 24,
   "metadata": {},
   "outputs": [
    {
     "name": "stderr",
     "output_type": "stream",
     "text": [
      "C:\\Users\\tobia\\AppData\\Roaming\\Python\\Python311\\site-packages\\sklearn\\ensemble\\_weight_boosting.py:519: FutureWarning: The SAMME.R algorithm (the default) is deprecated and will be removed in 1.6. Use the SAMME algorithm to circumvent this warning.\n",
      "  warnings.warn(\n"
     ]
    },
    {
     "name": "stdout",
     "output_type": "stream",
     "text": [
      "AdaBoost Classifier MSE: 0.16440501043841335\n",
      "AdaBoost Classifier Accuracy: 0.8355949895615866\n",
      "[[1591   20]\n",
      " [ 295   10]]\n",
      "Precision: 0.9875853507138423\n",
      "Recall: 0.8435843054082715\n"
     ]
    }
   ],
   "source": [
    "from sklearn.ensemble import AdaBoostClassifier\n",
    "\n",
    "# Train an AdaBoost classifier\n",
    "adaboost_classifier = AdaBoostClassifier(n_estimators=100)\n",
    "adaboost_classifier.fit(X_train, y_train)\n",
    "# Test on the X_test data\n",
    "adaboost_classifier_predictions = adaboost_classifier.predict(X_test)\n",
    "\n",
    "# Calculate the mean squared error\n",
    "adaboost_mse = mean_squared_error(y_test, adaboost_classifier_predictions)\n",
    "print(\"AdaBoost Classifier MSE:\", adaboost_mse)\n",
    "\n",
    "# Calculate accuracy\n",
    "adaboost_accuracy = accuracy_score(y_test, adaboost_classifier_predictions.round())\n",
    "print(\"AdaBoost Classifier Accuracy:\", adaboost_accuracy)\n",
    "\n",
    "# Compute confusion matrix\n",
    "cm = confusion_matrix(y_test, adaboost_classifier_predictions)\n",
    "\n",
    "# Print confusion matrix\n",
    "print(cm)\n",
    "\n",
    "true_positive = cm[0, 0]\n",
    "false_positive = cm[0, 1]\n",
    "false_negative = cm[1, 0]\n",
    "\n",
    "precision = true_positive / (true_positive + false_positive)\n",
    "recall = true_positive / (true_positive + false_negative)\n",
    "\n",
    "#How many retrieved instances are relevant\n",
    "print(\"Precision:\", precision)\n",
    "\n",
    "#How many relevant instances are retrieved\n",
    "print(\"Recall:\", recall)\n"
   ]
  },
  {
   "cell_type": "code",
   "execution_count": 25,
   "metadata": {},
   "outputs": [
    {
     "name": "stdout",
     "output_type": "stream",
     "text": [
      "Gradient Boosting Classifier MSE: 0.15866388308977036\n",
      "Gradient Boosting Classifier Accuracy: 0.8413361169102297\n",
      "[[1600   11]\n",
      " [ 293   12]]\n",
      "Precision: 0.9931719428926132\n",
      "Recall: 0.8452192287374538\n"
     ]
    }
   ],
   "source": [
    "from sklearn.ensemble import GradientBoostingClassifier\n",
    "\n",
    "#Train a Gradient Boosting classifier\n",
    "gradient_boosting_classifier = GradientBoostingClassifier(n_estimators=100)\n",
    "gradient_boosting_classifier.fit(X_train, y_train)\n",
    "# Test on the X_test data\n",
    "gradient_boosting_classifier_predictions = gradient_boosting_classifier.predict(X_test)\n",
    "\n",
    "# Calculate the mean squared error\n",
    "gradient_boosting_mse = mean_squared_error(y_test, gradient_boosting_classifier_predictions)\n",
    "print(\"Gradient Boosting Classifier MSE:\", gradient_boosting_mse)\n",
    "\n",
    "\n",
    "# Calculate accuracy\n",
    "gradient_boosting_accuracy = accuracy_score(y_test, gradient_boosting_classifier_predictions.round())\n",
    "print(\"Gradient Boosting Classifier Accuracy:\", gradient_boosting_accuracy)\n",
    "\n",
    "# Compute confusion matrix\n",
    "cm = confusion_matrix(y_test, gradient_boosting_classifier_predictions)\n",
    "\n",
    "# Print confusion matrix\n",
    "print(cm)\n",
    "\n",
    "true_positive = cm[0, 0]\n",
    "false_positive = cm[0, 1]\n",
    "false_negative = cm[1, 0]\n",
    "\n",
    "precision = true_positive / (true_positive + false_positive)\n",
    "recall = true_positive / (true_positive + false_negative)\n",
    "\n",
    "#How many retrieved instances are relevant\n",
    "print(\"Precision:\", precision)\n",
    "\n",
    "#How many relevant instances are retrieved\n",
    "print(\"Recall:\", recall)"
   ]
  },
  {
   "cell_type": "code",
   "execution_count": 26,
   "metadata": {},
   "outputs": [
    {
     "name": "stdout",
     "output_type": "stream",
     "text": [
      "Bagging Classifier MSE: 0.1649269311064718\n",
      "Bagging Classifier Accuracy: 0.8350730688935282\n",
      "[[1592   19]\n",
      " [ 297    8]]\n",
      "Precision: 0.9882060831781502\n",
      "Recall: 0.8427739544732663\n"
     ]
    }
   ],
   "source": [
    "from sklearn.ensemble import BaggingClassifier\n",
    "\n",
    "# Train a Bagging classifier\n",
    "bagging_classifier = BaggingClassifier(n_estimators=100)\n",
    "bagging_classifier.fit(X_train, y_train)\n",
    "# Test on the X_test data\n",
    "bagging_classifier_predictions = bagging_classifier.predict(X_test)\n",
    "\n",
    "# Calculate the mean squared error\n",
    "bagging_mse = mean_squared_error(y_test, bagging_classifier_predictions)\n",
    "print(\"Bagging Classifier MSE:\", bagging_mse)\n",
    "\n",
    "# Calculate accuracy\n",
    "bagging_accuracy = accuracy_score(y_test, bagging_classifier_predictions.round())\n",
    "print(\"Bagging Classifier Accuracy:\", bagging_accuracy)\n",
    "\n",
    "# Compute confusion matrix\n",
    "cm = confusion_matrix(y_test, bagging_classifier_predictions)\n",
    "\n",
    "# Print confusion matrix\n",
    "print(cm)\n",
    "\n",
    "true_positive = cm[0, 0]\n",
    "false_positive = cm[0, 1]\n",
    "false_negative = cm[1, 0]\n",
    "\n",
    "precision = true_positive / (true_positive + false_positive)\n",
    "recall = true_positive / (true_positive + false_negative)\n",
    "\n",
    "#How many retrieved instances are relevant\n",
    "print(\"Precision:\", precision)\n",
    "\n",
    "#How many relevant instances are retrieved\n",
    "print(\"Recall:\", recall)"
   ]
  },
  {
   "cell_type": "code",
   "execution_count": 27,
   "metadata": {},
   "outputs": [
    {
     "name": "stderr",
     "output_type": "stream",
     "text": [
      "C:\\Users\\tobia\\AppData\\Roaming\\Python\\Python311\\site-packages\\sklearn\\ensemble\\_weight_boosting.py:519: FutureWarning: The SAMME.R algorithm (the default) is deprecated and will be removed in 1.6. Use the SAMME algorithm to circumvent this warning.\n",
      "  warnings.warn(\n"
     ]
    },
    {
     "name": "stdout",
     "output_type": "stream",
     "text": [
      "Voting Classifier MSE: 0.16127348643006262\n",
      "Voting Classifier Accuracy: 0.8387265135699373\n",
      "[[1602    9]\n",
      " [ 300    5]]\n",
      "Precision: 0.994413407821229\n",
      "Recall: 0.8422712933753943\n"
     ]
    }
   ],
   "source": [
    "from sklearn.ensemble import VotingClassifier\n",
    "\n",
    "# Train a Voting classifier\n",
    "voting_classifier = VotingClassifier(estimators=[('rf', random_forest_classifier), ('ab', adaboost_classifier), ('gb', gradient_boosting_classifier), ('bg', bagging_classifier)], voting='soft')\n",
    "voting_classifier.fit(X_train, y_train)\n",
    "# Test on the X_test data\n",
    "voting_classifier_predictions = voting_classifier.predict(X_test)\n",
    "\n",
    "# Calculate the mean squared error\n",
    "voting_mse = mean_squared_error(y_test, voting_classifier_predictions)\n",
    "print(\"Voting Classifier MSE:\", voting_mse)\n",
    "\n",
    "# Calculate accuracy\n",
    "voting_accuracy = accuracy_score(y_test, voting_classifier_predictions.round())\n",
    "print(\"Voting Classifier Accuracy:\", voting_accuracy)\n",
    "\n",
    "# Compute confusion matrix\n",
    "cm = confusion_matrix(y_test, voting_classifier_predictions)\n",
    "\n",
    "# Print confusion matrix\n",
    "print(cm)\n",
    "\n",
    "true_positive = cm[0, 0]\n",
    "false_positive = cm[0, 1]\n",
    "false_negative = cm[1, 0]\n",
    "\n",
    "precision = true_positive / (true_positive + false_positive)\n",
    "recall = true_positive / (true_positive + false_negative)\n",
    "\n",
    "#How many retrieved instances are relevant\n",
    "print(\"Precision:\", precision)\n",
    "\n",
    "#How many relevant instances are retrieved\n",
    "print(\"Recall:\", recall)"
   ]
  },
  {
   "cell_type": "code",
   "execution_count": 32,
   "metadata": {},
   "outputs": [
    {
     "data": {
      "image/png": "[encoded data removed]",
      "text/plain": [
       "<Figure size 1000x600 with 1 Axes>"
      ]
     },
     "metadata": {},
     "output_type": "display_data"
    }
   ],
   "source": [
    "import matplotlib.pyplot as plt\n",
    "\n",
    "# Accuracy values\n",
    "accuracy_values = [adaboost_accuracy, bagging_accuracy, forest_accuracy, gradient_boosting_accuracy, voting_accuracy]\n",
    "\n",
    "# Model names\n",
    "model_names = ['AdaBoost', 'Bagging', 'Random Forest', 'Gradient Boosting', 'Voting']\n",
    "\n",
    "# Create the graph\n",
    "plt.figure(figsize=(10, 6))\n",
    "plt.bar(model_names, accuracy_values)\n",
    "plt.xlabel('Model')\n",
    "plt.ylabel('Accuracy')\n",
    "plt.title('Accuracy Comparison')\n",
    "plt.ylim(0.5, 1.0)  # Set the y-axis limits if needed\n",
    "plt.show()\n"
   ]
  },
  {
   "cell_type": "code",
   "execution_count": 29,
   "metadata": {},
   "outputs": [
    {
     "name": "stdout",
     "output_type": "stream",
     "text": [
      "Prediction rate : 0.007828810020876827\n",
      "Actual rate : 0.15918580375782881\n"
     ]
    }
   ],
   "source": [
    "print(f\"Prediction rate : {forest_classifier_predictions.sum() / len(forest_classifier_predictions)}\")\n",
    "print(f\"Actual rate : {y_test.sum() / len(y_test)}\")"
   ]
  },
  {
   "cell_type": "code",
   "execution_count": 30,
   "metadata": {},
   "outputs": [
    {
     "data": {
      "image/png": "[encoded data removed]",
      "text/plain": [
       "<Figure size 640x480 with 1 Axes>"
      ]
     },
     "metadata": {},
     "output_type": "display_data"
    }
   ],
   "source": [
    "import matplotlib.pyplot as plt\n",
    "from sklearn.metrics import roc_curve, auc\n",
    "\n",
    "# Compute the predicted probabilities for the positive class\n",
    "y_pred_proba = random_forest_classifier.predict_proba(X_test)[:, 1]\n",
    "\n",
    "# Compute the false positive rate, true positive rate, and thresholds\n",
    "fpr, tpr, thresholds = roc_curve(y_test, y_pred_proba)\n",
    "\n",
    "# Compute the area under the ROC curve\n",
    "roc_auc = auc(fpr, tpr)\n",
    "\n",
    "# Plot the ROC curve\n",
    "plt.figure()\n",
    "plt.plot(fpr, tpr, label='ROC curve (area = %0.2f)' % roc_auc)\n",
    "plt.plot([0, 1], [0, 1], 'k--')\n",
    "plt.xlim([0.0, 1.0])\n",
    "plt.ylim([0.0, 1.05])\n",
    "plt.xlabel('False Positive Rate')\n",
    "plt.ylabel('True Positive Rate')\n",
    "plt.title('Receiver Operating Characteristic')\n",
    "plt.legend(loc=\"lower right\")\n",
    "plt.show()\n"
   ]
  },
  {
   "cell_type": "code",
   "execution_count": null,
   "metadata": {},
   "outputs": [],
   "source": [
    "\n"
   ]
  },
  {
   "cell_type": "code",
   "execution_count": null,
   "metadata": {},
   "outputs": [],
   "source": []
  }
 ],
 "metadata": {
  "kernelspec": {
   "display_name": "Python 3",
   "language": "python",
   "name": "python3"
  },
  "language_info": {
   "codemirror_mode": {
    "name": "ipython",
    "version": 3
   },
   "file_extension": ".py",
   "mimetype": "text/x-python",
   "name": "python",
   "nbconvert_exporter": "python",
   "pygments_lexer": "ipython3",
   "version": "3.11.7"
  }
 },
 "nbformat": 4,
 "nbformat_minor": 2
}
